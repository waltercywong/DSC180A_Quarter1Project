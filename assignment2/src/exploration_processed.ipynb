{
 "cells": [
  {
   "cell_type": "code",
   "execution_count": 1,
   "metadata": {},
   "outputs": [],
   "source": [
    "import pandas as pd\n",
    "import numpy as np\n",
    "import matplotlib.pyplot as plt\n",
    "import pickle"
   ]
  },
  {
   "cell_type": "markdown",
   "metadata": {},
   "source": [
    "## Processed Data"
   ]
  },
  {
   "cell_type": "markdown",
   "metadata": {},
   "source": [
    "Exploring the structure of the processed DE-HNN dataset."
   ]
  },
  {
   "cell_type": "code",
   "execution_count": 2,
   "metadata": {},
   "outputs": [],
   "source": [
    "idx = 0\n",
    "with open(f\"../data/DEHNN_dataset/{idx}.degree.pkl\", \"rb\") as f:\n",
    "    dict = pickle.load(f)"
   ]
  },
  {
   "cell_type": "code",
   "execution_count": 6,
   "metadata": {},
   "outputs": [
    {
     "data": {
      "text/plain": [
       "dict_keys(['cell_degrees', 'net_degrees'])"
      ]
     },
     "execution_count": 6,
     "metadata": {},
     "output_type": "execute_result"
    }
   ],
   "source": [
    "dict.keys()"
   ]
  },
  {
   "cell_type": "code",
   "execution_count": 19,
   "metadata": {},
   "outputs": [
    {
     "data": {
      "text/plain": [
       "0            857\n",
       "1          15850\n",
       "2         525902\n",
       "3         130515\n",
       "4          56196\n",
       "           ...  \n",
       "2050           2\n",
       "2139           1\n",
       "2141           1\n",
       "4087           1\n",
       "140605         1\n",
       "Length: 304, dtype: int64"
      ]
     },
     "execution_count": 19,
     "metadata": {},
     "output_type": "execute_result"
    }
   ],
   "source": [
    "pd.Series(dict['net_degrees']).value_counts().sort_index()"
   ]
  },
  {
   "cell_type": "code",
   "execution_count": 24,
   "metadata": {},
   "outputs": [
    {
     "data": {
      "text/plain": [
       "0          257\n",
       "2        99955\n",
       "3       324927\n",
       "4       144497\n",
       "5       217291\n",
       "6         3999\n",
       "7         6837\n",
       "14           1\n",
       "15           1\n",
       "30           1\n",
       "32           6\n",
       "33           1\n",
       "50           6\n",
       "52           1\n",
       "72           5\n",
       "75           1\n",
       "76           3\n",
       "77           1\n",
       "78           1\n",
       "82           2\n",
       "87           4\n",
       "91           1\n",
       "108         24\n",
       "112          2\n",
       "113          3\n",
       "114          1\n",
       "117         24\n",
       "118         14\n",
       "130          1\n",
       "141          2\n",
       "143         24\n",
       "165          2\n",
       "169          6\n",
       "177         12\n",
       "178          1\n",
       "181          2\n",
       "310          2\n",
       "380          6\n",
       "1243        14\n",
       "dtype: int64"
      ]
     },
     "execution_count": 24,
     "metadata": {},
     "output_type": "execute_result"
    }
   ],
   "source": [
    "pd.Series(dict['cell_degrees']).value_counts().sort_index()"
   ]
  },
  {
   "cell_type": "code",
   "execution_count": 27,
   "metadata": {},
   "outputs": [],
   "source": [
    "with open(f\"2023-03-06_data/{idx}.bipartite.pkl\", \"rb\") as f:\n",
    "    dict = pickle.load(f)"
   ]
  },
  {
   "cell_type": "code",
   "execution_count": 28,
   "metadata": {},
   "outputs": [
    {
     "data": {
      "text/plain": [
       "{'instance_idx': array([478481, 478482, 478483, ..., 797724, 738342, 797725]),\n",
       " 'net_idx': array([     0,      0,      0, ..., 821521, 821522, 821522]),\n",
       " 'edge_attr': array([3, 3, 3, ..., 2, 2, 2]),\n",
       " 'edge_dir': array([0, 0, 0, ..., 1, 0, 1]),\n",
       " 'sample_name': '/data/son/Research/chips/congestion_prediction/data/RosettaStone-GraphData-2023-03-06/superblue19/6/',\n",
       " 'folder': '/data/son/Research/chips/congestion_prediction/data/RosettaStone-GraphData-2023-03-06/superblue1/1/',\n",
       " 'design': 'superblue1',\n",
       " 'edge_index': array([[     0,      0,      0, ..., 797724, 821522, 797725],\n",
       "        [478481, 478482, 478483, ..., 821521, 738342, 821522]])}"
      ]
     },
     "execution_count": 28,
     "metadata": {},
     "output_type": "execute_result"
    }
   ],
   "source": [
    "dict"
   ]
  },
  {
   "cell_type": "code",
   "execution_count": 29,
   "metadata": {},
   "outputs": [],
   "source": [
    "with open(f\"2023-03-06_data/{idx}.eigen.10.pkl\", \"rb\") as f:\n",
    "    dict = pickle.load(f)"
   ]
  },
  {
   "cell_type": "code",
   "execution_count": 32,
   "metadata": {},
   "outputs": [
    {
     "data": {
      "text/plain": [
       "array([1.9982028, 1.9984511, 1.9999945, 1.9999961, 1.9999961, 1.999997 ,\n",
       "       1.999999 , 1.9999994, 2.0000005, 2.0000098], dtype=float32)"
      ]
     },
     "execution_count": 32,
     "metadata": {},
     "output_type": "execute_result"
    }
   ],
   "source": [
    "dict['evals']"
   ]
  },
  {
   "cell_type": "code",
   "execution_count": 33,
   "metadata": {},
   "outputs": [
    {
     "data": {
      "text/plain": [
       "array([[ 1.73489370e-05,  1.81367905e-05, -4.42451652e-04, ...,\n",
       "        -1.69613311e-04, -1.03775405e-04,  3.63318453e-04],\n",
       "       [ 2.06509212e-05,  2.13837811e-05, -4.94658831e-04, ...,\n",
       "        -1.89635786e-04, -1.15998235e-04,  4.06221749e-04],\n",
       "       [ 2.06760851e-05,  2.14082029e-05, -4.94659995e-04, ...,\n",
       "        -1.89635917e-04, -1.15999334e-04,  4.06223349e-04],\n",
       "       ...,\n",
       "       [-1.21696266e-05, -1.34866805e-05,  3.12872638e-04, ...,\n",
       "         1.19940436e-04,  7.35051581e-05, -2.57036416e-04],\n",
       "       [-1.18891930e-05, -1.27987933e-05,  3.12860706e-04, ...,\n",
       "         1.19941426e-04,  7.34357745e-05, -2.56962288e-04],\n",
       "       [-1.21403045e-05, -1.31762026e-05,  3.12862045e-04, ...,\n",
       "         1.19949342e-04,  7.34591595e-05, -2.56991305e-04]], dtype=float32)"
      ]
     },
     "execution_count": 33,
     "metadata": {},
     "output_type": "execute_result"
    }
   ],
   "source": [
    "dict['evects']"
   ]
  },
  {
   "cell_type": "code",
   "execution_count": 34,
   "metadata": {},
   "outputs": [],
   "source": [
    "with open(f\"2023-03-06_data/{idx}.global_information.pkl\", \"rb\") as f:\n",
    "    dict = pickle.load(f)"
   ]
  },
  {
   "cell_type": "code",
   "execution_count": 35,
   "metadata": {},
   "outputs": [
    {
     "data": {
      "text/plain": [
       "{'design': 'superblue1',\n",
       " 'variant': 1,\n",
       " 'core_utilization': 0.5,\n",
       " 'max_routing_layer': 'met5',\n",
       " 'clk_per': 50,\n",
       " 'clk_uncertainty': 0.2,\n",
       " 'flow_stage': 'place_opt',\n",
       " 'hstrap_layer': 'met5',\n",
       " 'hstrap_width': 1.6,\n",
       " 'hstrap_pitch': 27.2,\n",
       " 'vstrap_layer': 'met4',\n",
       " 'vstrap_width': 1.5,\n",
       " 'vstrap_pitch': 27.3}"
      ]
     },
     "execution_count": 35,
     "metadata": {},
     "output_type": "execute_result"
    }
   ],
   "source": [
    "dict"
   ]
  },
  {
   "cell_type": "code",
   "execution_count": 36,
   "metadata": {},
   "outputs": [],
   "source": [
    "with open(f\"2023-03-06_data/{idx}.metis_part_dict.pkl\", \"rb\") as f:\n",
    "    dict = pickle.load(f)"
   ]
  },
  {
   "cell_type": "code",
   "execution_count": 42,
   "metadata": {},
   "outputs": [
    {
     "data": {
      "text/plain": [
       "[115, 181, 183, 184, 185, 186, 187, 247, 248, 250]"
      ]
     },
     "execution_count": 42,
     "metadata": {},
     "output_type": "execute_result"
    }
   ],
   "source": [
    "list(dict.keys())[:10]"
   ]
  },
  {
   "cell_type": "code",
   "execution_count": 43,
   "metadata": {},
   "outputs": [],
   "source": [
    "with open(f\"2023-03-06_data/{idx}.net_demand_capacity.pkl\", \"rb\") as f:\n",
    "    dict = pickle.load(f)"
   ]
  },
  {
   "cell_type": "code",
   "execution_count": 48,
   "metadata": {},
   "outputs": [
    {
     "data": {
      "text/plain": [
       "22.000000    8465\n",
       "21.000000    8238\n",
       "23.000000    8180\n",
       "24.000000    7839\n",
       "20.000000    7553\n",
       "             ... \n",
       "23.381044       1\n",
       "23.357000       1\n",
       "22.473118       1\n",
       "6.394209        1\n",
       "51.155556       1\n",
       "Length: 178589, dtype: int64"
      ]
     },
     "execution_count": 48,
     "metadata": {},
     "output_type": "execute_result"
    }
   ],
   "source": [
    "pd.Series(dict['demand']).value_counts() #guessing power demand?"
   ]
  },
  {
   "cell_type": "code",
   "execution_count": 54,
   "metadata": {},
   "outputs": [
    {
     "data": {
      "text/plain": [
       "(21.723934436378457, 7.046322395240629)"
      ]
     },
     "execution_count": 54,
     "metadata": {},
     "output_type": "execute_result"
    }
   ],
   "source": [
    "np.mean(dict['demand']), np.std(dict['demand'])"
   ]
  },
  {
   "cell_type": "code",
   "execution_count": 55,
   "metadata": {},
   "outputs": [],
   "source": [
    "with open(f\"2023-03-06_data/{idx}.net_features.pkl\", \"rb\") as f:\n",
    "    dict = pickle.load(f)"
   ]
  },
  {
   "cell_type": "code",
   "execution_count": 59,
   "metadata": {},
   "outputs": [
    {
     "data": {
      "text/plain": [
       "821523"
      ]
     },
     "execution_count": 59,
     "metadata": {},
     "output_type": "execute_result"
    }
   ],
   "source": [
    "len(dict['instance_features'])"
   ]
  },
  {
   "cell_type": "code",
   "execution_count": 61,
   "metadata": {},
   "outputs": [
    {
     "data": {
      "text/plain": [
       "51"
      ]
     },
     "execution_count": 61,
     "metadata": {},
     "output_type": "execute_result"
    }
   ],
   "source": [
    "len(dict['instance_features'][0])"
   ]
  },
  {
   "cell_type": "code",
   "execution_count": 63,
   "metadata": {},
   "outputs": [
    {
     "data": {
      "text/plain": [
       "array([ 9.8392700e+05,  2.6645090e+02,  0.0000000e+00,  4.1767200e+05,\n",
       "        1.4504403e+05,  3.1538994e+05,  1.4943203e+05,  3.9212781e+05,\n",
       "        5.4454250e+05,  1.1225168e+05,  2.7461322e+05,  2.0919844e+05,\n",
       "        1.7670420e+04,  5.0648119e+05,  8.4914600e+05,  4.0419009e+05,\n",
       "        1.3343519e+06,  1.4035854e+06,  2.6564066e+05,  1.0652486e+06,\n",
       "        6.0974419e+05,  4.1504445e+04,  1.2290500e+05,  2.6057900e+05,\n",
       "        4.7308500e+05,  7.7726800e+05,  1.1596730e+06,  1.8579820e+06,\n",
       "        4.2378000e+05,  7.0933500e+05,  1.1935630e+06,  1.8414130e+06,\n",
       "        2.7894380e+06,  4.1105650e+06,  1.9671024e+00,  2.0726898e+00,\n",
       "       -5.3799072e+01, -6.0643272e+01,  1.4420410e+00, -4.4606724e+00,\n",
       "       -2.9280889e+00, -2.0650249e+01, -1.2616593e+01,  4.4177708e+01,\n",
       "        1.7341040e+01,  4.1642575e+00,  5.9796691e-01,  7.7328318e-01,\n",
       "        3.5756442e-01,  5.6296331e-01,  8.2648188e-01], dtype=float32)"
      ]
     },
     "execution_count": 63,
     "metadata": {},
     "output_type": "execute_result"
    }
   ],
   "source": [
    "dict['instance_features'][0] #???"
   ]
  },
  {
   "cell_type": "code",
   "execution_count": 64,
   "metadata": {},
   "outputs": [],
   "source": [
    "with open(f\"2023-03-06_data/{idx}.node_features.pkl\", \"rb\") as f:\n",
    "    dict = pickle.load(f)"
   ]
  },
  {
   "cell_type": "code",
   "execution_count": 65,
   "metadata": {},
   "outputs": [
    {
     "data": {
      "text/plain": [
       "{'num_instances': 797938,\n",
       " 'num_nets': 821523,\n",
       " 'x_min': 1920,\n",
       " 'x_max': 7278720,\n",
       " 'y_min': 3330,\n",
       " 'y_max': 7276050,\n",
       " 'min_cell_width': 1920,\n",
       " 'max_cell_width': 19211520,\n",
       " 'min_cell_height': 13320,\n",
       " 'max_cell_height': 20601600,\n",
       " 'instance_features': array([[7.77638522e-01, 2.67399267e-01, 1.32000000e+02, 3.99800100e-04,\n",
       "         0.00000000e+00, 6.00000000e+00],\n",
       "        [6.15699208e-01, 4.91758242e-01, 3.59000000e+02, 7.99600200e-04,\n",
       "         0.00000000e+00, 6.00000000e+00],\n",
       "        [5.91820580e-01, 4.78021978e-01, 1.76000000e+02, 4.99750125e-04,\n",
       "         0.00000000e+00, 0.00000000e+00],\n",
       "        ...,\n",
       "        [7.77506596e-01, 1.34615385e-01, 6.00000000e+00, 1.59920040e-03,\n",
       "         0.00000000e+00, 6.00000000e+00],\n",
       "        [7.75593668e-01, 9.34065934e-02, 6.00000000e+00, 1.59920040e-03,\n",
       "         0.00000000e+00, 0.00000000e+00],\n",
       "        [7.76781003e-01, 5.86080586e-02, 6.00000000e+00, 1.59920040e-03,\n",
       "         0.00000000e+00, 0.00000000e+00]]),\n",
       " 'sample_name': '/data/zluo/new_data/superblue19/6/',\n",
       " 'folder': '/data/zluo/new_data/superblue1/2/',\n",
       " 'design': 'superblue1'}"
      ]
     },
     "execution_count": 65,
     "metadata": {},
     "output_type": "execute_result"
    }
   ],
   "source": [
    "dict"
   ]
  },
  {
   "cell_type": "code",
   "execution_count": 69,
   "metadata": {},
   "outputs": [
    {
     "data": {
      "text/plain": [
       "6"
      ]
     },
     "execution_count": 69,
     "metadata": {},
     "output_type": "execute_result"
    }
   ],
   "source": [
    "len(dict['instance_features'][0])"
   ]
  },
  {
   "cell_type": "code",
   "execution_count": 70,
   "metadata": {},
   "outputs": [
    {
     "data": {
      "text/plain": [
       "array([7.77638522e-01, 2.67399267e-01, 1.32000000e+02, 3.99800100e-04,\n",
       "       0.00000000e+00, 6.00000000e+00])"
      ]
     },
     "execution_count": 70,
     "metadata": {},
     "output_type": "execute_result"
    }
   ],
   "source": [
    "dict['instance_features'][0] #???"
   ]
  },
  {
   "cell_type": "markdown",
   "metadata": {},
   "source": [
    "In general, a bit confused about how the data is layout/partitioned. Is one index a netlist? Whole chip? Additionally, a lot of feature vectors that are not specified exactly what they are in the data writeup.\n"
   ]
  },
  {
   "cell_type": "code",
   "execution_count": 72,
   "metadata": {},
   "outputs": [],
   "source": [
    "with open(f\"2023-03-06_data/node_neighbors/{idx}.node_neighbor_features.pkl\", \"rb\") as f:\n",
    "    dict = pickle.load(f)"
   ]
  },
  {
   "cell_type": "code",
   "execution_count": 74,
   "metadata": {},
   "outputs": [
    {
     "data": {
      "text/plain": [
       "dict_keys(['pd', 'neighbor'])"
      ]
     },
     "execution_count": 74,
     "metadata": {},
     "output_type": "execute_result"
    }
   ],
   "source": [
    "dict.keys()"
   ]
  },
  {
   "cell_type": "code",
   "execution_count": 75,
   "metadata": {},
   "outputs": [
    {
     "data": {
      "text/plain": [
       "array([[0.57659997, 3.78525   , 2.84100841, ..., 0.        , 0.        ,\n",
       "        0.        ],\n",
       "       [1.1236587 , 2.59016081, 0.48024168, ..., 0.        , 0.        ,\n",
       "        0.        ],\n",
       "       [1.1236587 , 2.59016081, 0.48024168, ..., 0.        , 0.        ,\n",
       "        0.        ],\n",
       "       ...,\n",
       "       [0.        , 0.        , 0.        , ..., 0.95083978, 0.6301005 ,\n",
       "        0.03481547],\n",
       "       [0.        , 0.        , 0.        , ..., 1.14630555, 1.43355668,\n",
       "        0.14265637],\n",
       "       [0.        , 0.        , 0.        , ..., 1.44839475, 1.73426691,\n",
       "        0.1504663 ]])"
      ]
     },
     "execution_count": 75,
     "metadata": {},
     "output_type": "execute_result"
    }
   ],
   "source": [
    "dict['pd']"
   ]
  },
  {
   "cell_type": "code",
   "execution_count": 81,
   "metadata": {},
   "outputs": [
    {
     "data": {
      "text/plain": [
       "797938"
      ]
     },
     "execution_count": 81,
     "metadata": {},
     "output_type": "execute_result"
    }
   ],
   "source": [
    "len(dict['pd'])"
   ]
  },
  {
   "cell_type": "code",
   "execution_count": 86,
   "metadata": {},
   "outputs": [
    {
     "data": {
      "text/plain": [
       "12"
      ]
     },
     "execution_count": 86,
     "metadata": {},
     "output_type": "execute_result"
    }
   ],
   "source": [
    "len(dict['neighbor'][0]) # Again confused about what these vectors mean, and why do each of pd's and neighbor's elements differ in length\n",
    "\n",
    "# ok pd is persistant diagram so makes sense for length to be diff"
   ]
  },
  {
   "cell_type": "code",
   "execution_count": null,
   "metadata": {},
   "outputs": [],
   "source": []
  },
  {
   "cell_type": "code",
   "execution_count": 231,
   "metadata": {},
   "outputs": [],
   "source": [
    "idx = 0\n",
    "info = 'bipartite'\n",
    "def open_data(idx, info):\n",
    "    with open(f\"2023-03-06_data/{idx}.{info}.pkl\", \"rb\") as f:\n",
    "        dict = pickle.load(f)\n",
    "    return dict"
   ]
  },
  {
   "cell_type": "markdown",
   "metadata": {},
   "source": [
    "### Bipartite"
   ]
  },
  {
   "cell_type": "markdown",
   "metadata": {},
   "source": [
    "A bipartite representation of a chip, with wires/nets being represented as nodes on top of cells/instances and the pins/terminals being edges."
   ]
  },
  {
   "cell_type": "code",
   "execution_count": 232,
   "metadata": {},
   "outputs": [],
   "source": [
    "data = open_data(0, 'bipartite')"
   ]
  },
  {
   "cell_type": "code",
   "execution_count": 236,
   "metadata": {},
   "outputs": [
    {
     "data": {
      "text/plain": [
       "{'instance_idx': array([478481, 478482, 478483, ..., 797724, 738342, 797725]),\n",
       " 'net_idx': array([     0,      0,      0, ..., 821521, 821522, 821522]),\n",
       " 'edge_attr': array([3, 3, 3, ..., 2, 2, 2]),\n",
       " 'edge_dir': array([0, 0, 0, ..., 1, 0, 1]),\n",
       " 'sample_name': '/data/son/Research/chips/congestion_prediction/data/RosettaStone-GraphData-2023-03-06/superblue19/6/',\n",
       " 'folder': '/data/son/Research/chips/congestion_prediction/data/RosettaStone-GraphData-2023-03-06/superblue1/1/',\n",
       " 'design': 'superblue1',\n",
       " 'edge_index': array([[     0,      0,      0, ..., 797724, 821522, 797725],\n",
       "        [478481, 478482, 478483, ..., 821521, 738342, 821522]])}"
      ]
     },
     "execution_count": 236,
     "metadata": {},
     "output_type": "execute_result"
    }
   ],
   "source": [
    "data"
   ]
  },
  {
   "cell_type": "code",
   "execution_count": 235,
   "metadata": {},
   "outputs": [
    {
     "data": {
      "text/plain": [
       "dict_keys(['instance_idx', 'net_idx', 'edge_attr', 'edge_dir', 'sample_name', 'folder', 'design', 'edge_index'])"
      ]
     },
     "execution_count": 235,
     "metadata": {},
     "output_type": "execute_result"
    }
   ],
   "source": [
    "data.keys()"
   ]
  },
  {
   "cell_type": "code",
   "execution_count": 241,
   "metadata": {},
   "outputs": [
    {
     "data": {
      "text/plain": [
       "(2950019, 2950019)"
      ]
     },
     "execution_count": 241,
     "metadata": {},
     "output_type": "execute_result"
    }
   ],
   "source": [
    "len(data['instance_idx']), len(data['net_idx'])"
   ]
  },
  {
   "cell_type": "markdown",
   "metadata": {},
   "source": [
    "'instance_idx', 'net_idx', 'edge_attr', 'edge_dir', and both elements in 'edge_index' have same length (295019)"
   ]
  },
  {
   "cell_type": "code",
   "execution_count": 256,
   "metadata": {},
   "outputs": [
    {
     "data": {
      "text/plain": [
       "797681"
      ]
     },
     "execution_count": 256,
     "metadata": {},
     "output_type": "execute_result"
    }
   ],
   "source": [
    "len(set(data['instance_idx']))"
   ]
  },
  {
   "cell_type": "code",
   "execution_count": 263,
   "metadata": {},
   "outputs": [
    {
     "data": {
      "text/plain": [
       "732495    1243\n",
       "732475    1243\n",
       "732516    1243\n",
       "732509    1243\n",
       "732484    1243\n",
       "732505    1243\n",
       "732479    1243\n",
       "732514    1243\n",
       "732490    1243\n",
       "732507    1243\n",
       "732481    1243\n",
       "732519    1243\n",
       "732497    1243\n",
       "732503    1243\n",
       "732458     380\n",
       "732448     380\n",
       "732442     380\n",
       "732464     380\n",
       "732453     380\n",
       "732468     380\n",
       "dtype: int64"
      ]
     },
     "execution_count": 263,
     "metadata": {},
     "output_type": "execute_result"
    }
   ],
   "source": [
    "pd.Series(data['instance_idx']).value_counts().iloc[:20]"
   ]
  },
  {
   "cell_type": "code",
   "execution_count": 289,
   "metadata": {},
   "outputs": [
    {
     "data": {
      "text/plain": [
       "3       324975\n",
       "5       216932\n",
       "4       144290\n",
       "2        99906\n",
       "7         7016\n",
       "6         4387\n",
       "118         38\n",
       "109         24\n",
       "144         24\n",
       "1243        14\n",
       "178         12\n",
       "169          6\n",
       "380          6\n",
       "32           6\n",
       "50           6\n",
       "72           5\n",
       "87           4\n",
       "113          3\n",
       "76           3\n",
       "142          2\n",
       "310          2\n",
       "181          2\n",
       "82           2\n",
       "165          2\n",
       "112          2\n",
       "75           1\n",
       "53           1\n",
       "77           1\n",
       "33           1\n",
       "78           1\n",
       "30           1\n",
       "15           1\n",
       "14           1\n",
       "91           1\n",
       "179          1\n",
       "114          1\n",
       "130          1\n",
       "dtype: int64"
      ]
     },
     "execution_count": 289,
     "metadata": {},
     "output_type": "execute_result"
    }
   ],
   "source": [
    "pd.Series(pd.Series(data['instance_idx']).value_counts().values).value_counts()"
   ]
  },
  {
   "cell_type": "markdown",
   "metadata": {},
   "source": [
    "Many duplicate indices within 'instance_idx', not exactly sure where these indices coming from.\n",
    "\n",
    "Not from cell library data as only 80 different cells within that.\n",
    "\n",
    "Most indices appear a few times (2-7), though there are certain with specific high frequency (ex. 118, 169, 380, 1243).\n",
    "\n",
    "No index appears only once."
   ]
  },
  {
   "cell_type": "code",
   "execution_count": 310,
   "metadata": {},
   "outputs": [
    {
     "data": {
      "text/plain": [
       "1       797681\n",
       "2       797681\n",
       "3       697775\n",
       "4       372800\n",
       "5       228510\n",
       "         ...  \n",
       "671         14\n",
       "672         14\n",
       "673         14\n",
       "674         14\n",
       "1243        14\n",
       "Length: 1243, dtype: int64"
      ]
     },
     "execution_count": 310,
     "metadata": {},
     "output_type": "execute_result"
    }
   ],
   "source": [
    "pd.Series((data['edge_attr'])).value_counts()"
   ]
  },
  {
   "cell_type": "markdown",
   "metadata": {},
   "source": [
    "797681 matches up with the unique number of instance indices.\n",
    "\n",
    "Makes sense as each instance has at least one pin and this pin must be used.\n",
    "\n",
    "Tells us each instance has at least 2 pins being used."
   ]
  },
  {
   "cell_type": "code",
   "execution_count": 311,
   "metadata": {},
   "outputs": [
    {
     "data": {
      "text/plain": [
       "2950019"
      ]
     },
     "execution_count": 311,
     "metadata": {},
     "output_type": "execute_result"
    }
   ],
   "source": [
    "len(data['edge_attr'])"
   ]
  },
  {
   "cell_type": "markdown",
   "metadata": {},
   "source": [
    "I am assuming edge_attr is the pin/terminal index that is being used by the net/wire to connect to the cell."
   ]
  },
  {
   "cell_type": "code",
   "execution_count": 308,
   "metadata": {},
   "outputs": [
    {
     "data": {
      "text/plain": [
       "array([0, 0, 0, ..., 1, 0, 1])"
      ]
     },
     "execution_count": 308,
     "metadata": {},
     "output_type": "execute_result"
    }
   ],
   "source": [
    "data['edge_dir']"
   ]
  },
  {
   "cell_type": "markdown",
   "metadata": {},
   "source": [
    "'edge_dir' only consists of 0s and 1s, assuming signifies which direction the edge is pointing (not exactly sure which direction is for 0 and which for 1)."
   ]
  },
  {
   "cell_type": "code",
   "execution_count": 254,
   "metadata": {},
   "outputs": [
    {
     "data": {
      "text/plain": [
       "2950019"
      ]
     },
     "execution_count": 254,
     "metadata": {},
     "output_type": "execute_result"
    }
   ],
   "source": [
    "len(data['edge_index'][1])"
   ]
  },
  {
   "cell_type": "code",
   "execution_count": 291,
   "metadata": {},
   "outputs": [
    {
     "data": {
      "text/plain": [
       "dict_keys(['instance_idx', 'net_idx', 'edge_attr', 'edge_dir', 'sample_name', 'folder', 'design', 'edge_index'])"
      ]
     },
     "execution_count": 291,
     "metadata": {},
     "output_type": "execute_result"
    }
   ],
   "source": [
    "data.keys()"
   ]
  },
  {
   "cell_type": "code",
   "execution_count": 294,
   "metadata": {},
   "outputs": [],
   "source": [
    "def get_elem_data(idx):\n",
    "    print(data['instance_idx'][idx])\n",
    "    print(data['net_idx'][idx])\n",
    "    print(data['edge_attr'][idx])\n",
    "    print(data['edge_dir'][idx])\n",
    "    print(data['edge_index'][0][idx])\n",
    "    print(data['edge_index'][1][idx])"
   ]
  },
  {
   "cell_type": "code",
   "execution_count": 306,
   "metadata": {},
   "outputs": [
    {
     "name": "stdout",
     "output_type": "stream",
     "text": [
      "492078\n",
      "0\n",
      "3\n",
      "0\n",
      "0\n",
      "492078\n"
     ]
    }
   ],
   "source": [
    "get_elem_data(12030)"
   ]
  }
 ],
 "metadata": {
  "kernelspec": {
   "display_name": "project_env",
   "language": "python",
   "name": "python3"
  },
  "language_info": {
   "codemirror_mode": {
    "name": "ipython",
    "version": 3
   },
   "file_extension": ".py",
   "mimetype": "text/x-python",
   "name": "python",
   "nbconvert_exporter": "python",
   "pygments_lexer": "ipython3",
   "version": "3.8.15"
  }
 },
 "nbformat": 4,
 "nbformat_minor": 2
}
