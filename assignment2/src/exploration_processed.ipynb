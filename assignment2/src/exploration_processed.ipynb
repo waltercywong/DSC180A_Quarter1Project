{
 "cells": [
  {
   "cell_type": "code",
   "execution_count": 1,
   "metadata": {},
   "outputs": [],
   "source": [
    "import pandas as pd\n",
    "import numpy as np\n",
    "import matplotlib.pyplot as plt"
   ]
  },
  {
   "cell_type": "code",
   "execution_count": 2,
   "metadata": {},
   "outputs": [],
   "source": [
    "import pickle"
   ]
  },
  {
   "cell_type": "markdown",
   "metadata": {},
   "source": [
    "## Processed Data"
   ]
  },
  {
   "cell_type": "code",
   "execution_count": 11,
   "metadata": {},
   "outputs": [],
   "source": [
    "idx = 0\n",
    "with open(f\"2023-03-06_data/{idx}.degree.pkl\", \"rb\") as f:\n",
    "    dict = pickle.load(f)"
   ]
  },
  {
   "cell_type": "code",
   "execution_count": 8,
   "metadata": {},
   "outputs": [
    {
     "data": {
      "text/plain": [
       "2950019"
      ]
     },
     "execution_count": 8,
     "metadata": {},
     "output_type": "execute_result"
    }
   ],
   "source": [
    "len(dict['instance_idx'])"
   ]
  },
  {
   "cell_type": "code",
   "execution_count": 19,
   "metadata": {},
   "outputs": [
    {
     "data": {
      "text/plain": [
       "0            857\n",
       "1          15850\n",
       "2         525902\n",
       "3         130515\n",
       "4          56196\n",
       "           ...  \n",
       "2050           2\n",
       "2139           1\n",
       "2141           1\n",
       "4087           1\n",
       "140605         1\n",
       "Length: 304, dtype: int64"
      ]
     },
     "execution_count": 19,
     "metadata": {},
     "output_type": "execute_result"
    }
   ],
   "source": [
    "pd.Series(dict['net_degrees']).value_counts().sort_index()"
   ]
  },
  {
   "cell_type": "code",
   "execution_count": 24,
   "metadata": {},
   "outputs": [
    {
     "data": {
      "text/plain": [
       "0          257\n",
       "2        99955\n",
       "3       324927\n",
       "4       144497\n",
       "5       217291\n",
       "6         3999\n",
       "7         6837\n",
       "14           1\n",
       "15           1\n",
       "30           1\n",
       "32           6\n",
       "33           1\n",
       "50           6\n",
       "52           1\n",
       "72           5\n",
       "75           1\n",
       "76           3\n",
       "77           1\n",
       "78           1\n",
       "82           2\n",
       "87           4\n",
       "91           1\n",
       "108         24\n",
       "112          2\n",
       "113          3\n",
       "114          1\n",
       "117         24\n",
       "118         14\n",
       "130          1\n",
       "141          2\n",
       "143         24\n",
       "165          2\n",
       "169          6\n",
       "177         12\n",
       "178          1\n",
       "181          2\n",
       "310          2\n",
       "380          6\n",
       "1243        14\n",
       "dtype: int64"
      ]
     },
     "execution_count": 24,
     "metadata": {},
     "output_type": "execute_result"
    }
   ],
   "source": [
    "pd.Series(dict['cell_degrees']).value_counts().sort_index()"
   ]
  },
  {
   "cell_type": "code",
   "execution_count": 27,
   "metadata": {},
   "outputs": [],
   "source": [
    "with open(f\"2023-03-06_data/{idx}.bipartite.pkl\", \"rb\") as f:\n",
    "    dict = pickle.load(f)"
   ]
  },
  {
   "cell_type": "code",
   "execution_count": 28,
   "metadata": {},
   "outputs": [
    {
     "data": {
      "text/plain": [
       "{'instance_idx': array([478481, 478482, 478483, ..., 797724, 738342, 797725]),\n",
       " 'net_idx': array([     0,      0,      0, ..., 821521, 821522, 821522]),\n",
       " 'edge_attr': array([3, 3, 3, ..., 2, 2, 2]),\n",
       " 'edge_dir': array([0, 0, 0, ..., 1, 0, 1]),\n",
       " 'sample_name': '/data/son/Research/chips/congestion_prediction/data/RosettaStone-GraphData-2023-03-06/superblue19/6/',\n",
       " 'folder': '/data/son/Research/chips/congestion_prediction/data/RosettaStone-GraphData-2023-03-06/superblue1/1/',\n",
       " 'design': 'superblue1',\n",
       " 'edge_index': array([[     0,      0,      0, ..., 797724, 821522, 797725],\n",
       "        [478481, 478482, 478483, ..., 821521, 738342, 821522]])}"
      ]
     },
     "execution_count": 28,
     "metadata": {},
     "output_type": "execute_result"
    }
   ],
   "source": [
    "dict"
   ]
  },
  {
   "cell_type": "code",
   "execution_count": 29,
   "metadata": {},
   "outputs": [],
   "source": [
    "with open(f\"2023-03-06_data/{idx}.eigen.10.pkl\", \"rb\") as f:\n",
    "    dict = pickle.load(f)"
   ]
  },
  {
   "cell_type": "code",
   "execution_count": 32,
   "metadata": {},
   "outputs": [
    {
     "data": {
      "text/plain": [
       "array([1.9982028, 1.9984511, 1.9999945, 1.9999961, 1.9999961, 1.999997 ,\n",
       "       1.999999 , 1.9999994, 2.0000005, 2.0000098], dtype=float32)"
      ]
     },
     "execution_count": 32,
     "metadata": {},
     "output_type": "execute_result"
    }
   ],
   "source": [
    "dict['evals']"
   ]
  },
  {
   "cell_type": "code",
   "execution_count": 33,
   "metadata": {},
   "outputs": [
    {
     "data": {
      "text/plain": [
       "array([[ 1.73489370e-05,  1.81367905e-05, -4.42451652e-04, ...,\n",
       "        -1.69613311e-04, -1.03775405e-04,  3.63318453e-04],\n",
       "       [ 2.06509212e-05,  2.13837811e-05, -4.94658831e-04, ...,\n",
       "        -1.89635786e-04, -1.15998235e-04,  4.06221749e-04],\n",
       "       [ 2.06760851e-05,  2.14082029e-05, -4.94659995e-04, ...,\n",
       "        -1.89635917e-04, -1.15999334e-04,  4.06223349e-04],\n",
       "       ...,\n",
       "       [-1.21696266e-05, -1.34866805e-05,  3.12872638e-04, ...,\n",
       "         1.19940436e-04,  7.35051581e-05, -2.57036416e-04],\n",
       "       [-1.18891930e-05, -1.27987933e-05,  3.12860706e-04, ...,\n",
       "         1.19941426e-04,  7.34357745e-05, -2.56962288e-04],\n",
       "       [-1.21403045e-05, -1.31762026e-05,  3.12862045e-04, ...,\n",
       "         1.19949342e-04,  7.34591595e-05, -2.56991305e-04]], dtype=float32)"
      ]
     },
     "execution_count": 33,
     "metadata": {},
     "output_type": "execute_result"
    }
   ],
   "source": [
    "dict['evects']"
   ]
  },
  {
   "cell_type": "code",
   "execution_count": 34,
   "metadata": {},
   "outputs": [],
   "source": [
    "with open(f\"2023-03-06_data/{idx}.global_information.pkl\", \"rb\") as f:\n",
    "    dict = pickle.load(f)"
   ]
  },
  {
   "cell_type": "code",
   "execution_count": 35,
   "metadata": {},
   "outputs": [
    {
     "data": {
      "text/plain": [
       "{'design': 'superblue1',\n",
       " 'variant': 1,\n",
       " 'core_utilization': 0.5,\n",
       " 'max_routing_layer': 'met5',\n",
       " 'clk_per': 50,\n",
       " 'clk_uncertainty': 0.2,\n",
       " 'flow_stage': 'place_opt',\n",
       " 'hstrap_layer': 'met5',\n",
       " 'hstrap_width': 1.6,\n",
       " 'hstrap_pitch': 27.2,\n",
       " 'vstrap_layer': 'met4',\n",
       " 'vstrap_width': 1.5,\n",
       " 'vstrap_pitch': 27.3}"
      ]
     },
     "execution_count": 35,
     "metadata": {},
     "output_type": "execute_result"
    }
   ],
   "source": [
    "dict"
   ]
  },
  {
   "cell_type": "code",
   "execution_count": 36,
   "metadata": {},
   "outputs": [],
   "source": [
    "with open(f\"2023-03-06_data/{idx}.metis_part_dict.pkl\", \"rb\") as f:\n",
    "    dict = pickle.load(f)"
   ]
  },
  {
   "cell_type": "code",
   "execution_count": 42,
   "metadata": {},
   "outputs": [
    {
     "data": {
      "text/plain": [
       "[115, 181, 183, 184, 185, 186, 187, 247, 248, 250]"
      ]
     },
     "execution_count": 42,
     "metadata": {},
     "output_type": "execute_result"
    }
   ],
   "source": [
    "list(dict.keys())[:10]"
   ]
  },
  {
   "cell_type": "code",
   "execution_count": 43,
   "metadata": {},
   "outputs": [],
   "source": [
    "with open(f\"2023-03-06_data/{idx}.net_demand_capacity.pkl\", \"rb\") as f:\n",
    "    dict = pickle.load(f)"
   ]
  },
  {
   "cell_type": "code",
   "execution_count": 48,
   "metadata": {},
   "outputs": [
    {
     "data": {
      "text/plain": [
       "22.000000    8465\n",
       "21.000000    8238\n",
       "23.000000    8180\n",
       "24.000000    7839\n",
       "20.000000    7553\n",
       "             ... \n",
       "23.381044       1\n",
       "23.357000       1\n",
       "22.473118       1\n",
       "6.394209        1\n",
       "51.155556       1\n",
       "Length: 178589, dtype: int64"
      ]
     },
     "execution_count": 48,
     "metadata": {},
     "output_type": "execute_result"
    }
   ],
   "source": [
    "pd.Series(dict['demand']).value_counts() #guessing power demand?"
   ]
  },
  {
   "cell_type": "code",
   "execution_count": 54,
   "metadata": {},
   "outputs": [
    {
     "data": {
      "text/plain": [
       "(21.723934436378457, 7.046322395240629)"
      ]
     },
     "execution_count": 54,
     "metadata": {},
     "output_type": "execute_result"
    }
   ],
   "source": [
    "np.mean(dict['demand']), np.std(dict['demand'])"
   ]
  },
  {
   "cell_type": "code",
   "execution_count": 55,
   "metadata": {},
   "outputs": [],
   "source": [
    "with open(f\"2023-03-06_data/{idx}.net_features.pkl\", \"rb\") as f:\n",
    "    dict = pickle.load(f)"
   ]
  },
  {
   "cell_type": "code",
   "execution_count": 59,
   "metadata": {},
   "outputs": [
    {
     "data": {
      "text/plain": [
       "821523"
      ]
     },
     "execution_count": 59,
     "metadata": {},
     "output_type": "execute_result"
    }
   ],
   "source": [
    "len(dict['instance_features'])"
   ]
  },
  {
   "cell_type": "code",
   "execution_count": 61,
   "metadata": {},
   "outputs": [
    {
     "data": {
      "text/plain": [
       "51"
      ]
     },
     "execution_count": 61,
     "metadata": {},
     "output_type": "execute_result"
    }
   ],
   "source": [
    "len(dict['instance_features'][0])"
   ]
  },
  {
   "cell_type": "code",
   "execution_count": 63,
   "metadata": {},
   "outputs": [
    {
     "data": {
      "text/plain": [
       "array([ 9.8392700e+05,  2.6645090e+02,  0.0000000e+00,  4.1767200e+05,\n",
       "        1.4504403e+05,  3.1538994e+05,  1.4943203e+05,  3.9212781e+05,\n",
       "        5.4454250e+05,  1.1225168e+05,  2.7461322e+05,  2.0919844e+05,\n",
       "        1.7670420e+04,  5.0648119e+05,  8.4914600e+05,  4.0419009e+05,\n",
       "        1.3343519e+06,  1.4035854e+06,  2.6564066e+05,  1.0652486e+06,\n",
       "        6.0974419e+05,  4.1504445e+04,  1.2290500e+05,  2.6057900e+05,\n",
       "        4.7308500e+05,  7.7726800e+05,  1.1596730e+06,  1.8579820e+06,\n",
       "        4.2378000e+05,  7.0933500e+05,  1.1935630e+06,  1.8414130e+06,\n",
       "        2.7894380e+06,  4.1105650e+06,  1.9671024e+00,  2.0726898e+00,\n",
       "       -5.3799072e+01, -6.0643272e+01,  1.4420410e+00, -4.4606724e+00,\n",
       "       -2.9280889e+00, -2.0650249e+01, -1.2616593e+01,  4.4177708e+01,\n",
       "        1.7341040e+01,  4.1642575e+00,  5.9796691e-01,  7.7328318e-01,\n",
       "        3.5756442e-01,  5.6296331e-01,  8.2648188e-01], dtype=float32)"
      ]
     },
     "execution_count": 63,
     "metadata": {},
     "output_type": "execute_result"
    }
   ],
   "source": [
    "dict['instance_features'][0] #???"
   ]
  },
  {
   "cell_type": "code",
   "execution_count": 64,
   "metadata": {},
   "outputs": [],
   "source": [
    "with open(f\"2023-03-06_data/{idx}.node_features.pkl\", \"rb\") as f:\n",
    "    dict = pickle.load(f)"
   ]
  },
  {
   "cell_type": "code",
   "execution_count": 65,
   "metadata": {},
   "outputs": [
    {
     "data": {
      "text/plain": [
       "{'num_instances': 797938,\n",
       " 'num_nets': 821523,\n",
       " 'x_min': 1920,\n",
       " 'x_max': 7278720,\n",
       " 'y_min': 3330,\n",
       " 'y_max': 7276050,\n",
       " 'min_cell_width': 1920,\n",
       " 'max_cell_width': 19211520,\n",
       " 'min_cell_height': 13320,\n",
       " 'max_cell_height': 20601600,\n",
       " 'instance_features': array([[7.77638522e-01, 2.67399267e-01, 1.32000000e+02, 3.99800100e-04,\n",
       "         0.00000000e+00, 6.00000000e+00],\n",
       "        [6.15699208e-01, 4.91758242e-01, 3.59000000e+02, 7.99600200e-04,\n",
       "         0.00000000e+00, 6.00000000e+00],\n",
       "        [5.91820580e-01, 4.78021978e-01, 1.76000000e+02, 4.99750125e-04,\n",
       "         0.00000000e+00, 0.00000000e+00],\n",
       "        ...,\n",
       "        [7.77506596e-01, 1.34615385e-01, 6.00000000e+00, 1.59920040e-03,\n",
       "         0.00000000e+00, 6.00000000e+00],\n",
       "        [7.75593668e-01, 9.34065934e-02, 6.00000000e+00, 1.59920040e-03,\n",
       "         0.00000000e+00, 0.00000000e+00],\n",
       "        [7.76781003e-01, 5.86080586e-02, 6.00000000e+00, 1.59920040e-03,\n",
       "         0.00000000e+00, 0.00000000e+00]]),\n",
       " 'sample_name': '/data/zluo/new_data/superblue19/6/',\n",
       " 'folder': '/data/zluo/new_data/superblue1/2/',\n",
       " 'design': 'superblue1'}"
      ]
     },
     "execution_count": 65,
     "metadata": {},
     "output_type": "execute_result"
    }
   ],
   "source": [
    "dict"
   ]
  },
  {
   "cell_type": "code",
   "execution_count": 69,
   "metadata": {},
   "outputs": [
    {
     "data": {
      "text/plain": [
       "6"
      ]
     },
     "execution_count": 69,
     "metadata": {},
     "output_type": "execute_result"
    }
   ],
   "source": [
    "len(dict['instance_features'][0])"
   ]
  },
  {
   "cell_type": "code",
   "execution_count": 70,
   "metadata": {},
   "outputs": [
    {
     "data": {
      "text/plain": [
       "array([7.77638522e-01, 2.67399267e-01, 1.32000000e+02, 3.99800100e-04,\n",
       "       0.00000000e+00, 6.00000000e+00])"
      ]
     },
     "execution_count": 70,
     "metadata": {},
     "output_type": "execute_result"
    }
   ],
   "source": [
    "dict['instance_features'][0] #???"
   ]
  },
  {
   "cell_type": "markdown",
   "metadata": {},
   "source": [
    "In general, a bit confused about how the data is layout/partitioned. Is one index a netlist? Whole chip? Additionally, a lot of feature vectors that are not specified exactly what they are in the data writeup.\n"
   ]
  },
  {
   "cell_type": "code",
   "execution_count": 72,
   "metadata": {},
   "outputs": [],
   "source": [
    "with open(f\"2023-03-06_data/node_neighbors/{idx}.node_neighbor_features.pkl\", \"rb\") as f:\n",
    "    dict = pickle.load(f)"
   ]
  },
  {
   "cell_type": "code",
   "execution_count": 74,
   "metadata": {},
   "outputs": [
    {
     "data": {
      "text/plain": [
       "dict_keys(['pd', 'neighbor'])"
      ]
     },
     "execution_count": 74,
     "metadata": {},
     "output_type": "execute_result"
    }
   ],
   "source": [
    "dict.keys()"
   ]
  },
  {
   "cell_type": "code",
   "execution_count": 75,
   "metadata": {},
   "outputs": [
    {
     "data": {
      "text/plain": [
       "array([[0.57659997, 3.78525   , 2.84100841, ..., 0.        , 0.        ,\n",
       "        0.        ],\n",
       "       [1.1236587 , 2.59016081, 0.48024168, ..., 0.        , 0.        ,\n",
       "        0.        ],\n",
       "       [1.1236587 , 2.59016081, 0.48024168, ..., 0.        , 0.        ,\n",
       "        0.        ],\n",
       "       ...,\n",
       "       [0.        , 0.        , 0.        , ..., 0.95083978, 0.6301005 ,\n",
       "        0.03481547],\n",
       "       [0.        , 0.        , 0.        , ..., 1.14630555, 1.43355668,\n",
       "        0.14265637],\n",
       "       [0.        , 0.        , 0.        , ..., 1.44839475, 1.73426691,\n",
       "        0.1504663 ]])"
      ]
     },
     "execution_count": 75,
     "metadata": {},
     "output_type": "execute_result"
    }
   ],
   "source": [
    "dict['pd']"
   ]
  },
  {
   "cell_type": "code",
   "execution_count": 81,
   "metadata": {},
   "outputs": [
    {
     "data": {
      "text/plain": [
       "797938"
      ]
     },
     "execution_count": 81,
     "metadata": {},
     "output_type": "execute_result"
    }
   ],
   "source": [
    "len(dict['pd'])"
   ]
  },
  {
   "cell_type": "code",
   "execution_count": 86,
   "metadata": {},
   "outputs": [
    {
     "data": {
      "text/plain": [
       "12"
      ]
     },
     "execution_count": 86,
     "metadata": {},
     "output_type": "execute_result"
    }
   ],
   "source": [
    "len(dict['neighbor'][0]) # Again confused about what these vectors mean, and why do each of pd's and neighbor's elements differ in length\n",
    "\n",
    "# ok pd is persistant diagram so makes sense for length to be diff"
   ]
  },
  {
   "cell_type": "code",
   "execution_count": null,
   "metadata": {},
   "outputs": [],
   "source": []
  },
  {
   "cell_type": "code",
   "execution_count": 231,
   "metadata": {},
   "outputs": [],
   "source": [
    "idx = 0\n",
    "info = 'bipartite'\n",
    "def open_data(idx, info):\n",
    "    with open(f\"2023-03-06_data/{idx}.{info}.pkl\", \"rb\") as f:\n",
    "        dict = pickle.load(f)\n",
    "    return dict"
   ]
  },
  {
   "cell_type": "markdown",
   "metadata": {},
   "source": [
    "### Bipartite"
   ]
  },
  {
   "cell_type": "markdown",
   "metadata": {},
   "source": [
    "A bipartite representation of a chip, with wires/nets being represented as nodes on top of cells/instances and the pins/terminals being edges."
   ]
  },
  {
   "cell_type": "code",
   "execution_count": 232,
   "metadata": {},
   "outputs": [],
   "source": [
    "data = open_data(0, 'bipartite')"
   ]
  },
  {
   "cell_type": "code",
   "execution_count": 236,
   "metadata": {},
   "outputs": [
    {
     "data": {
      "text/plain": [
       "{'instance_idx': array([478481, 478482, 478483, ..., 797724, 738342, 797725]),\n",
       " 'net_idx': array([     0,      0,      0, ..., 821521, 821522, 821522]),\n",
       " 'edge_attr': array([3, 3, 3, ..., 2, 2, 2]),\n",
       " 'edge_dir': array([0, 0, 0, ..., 1, 0, 1]),\n",
       " 'sample_name': '/data/son/Research/chips/congestion_prediction/data/RosettaStone-GraphData-2023-03-06/superblue19/6/',\n",
       " 'folder': '/data/son/Research/chips/congestion_prediction/data/RosettaStone-GraphData-2023-03-06/superblue1/1/',\n",
       " 'design': 'superblue1',\n",
       " 'edge_index': array([[     0,      0,      0, ..., 797724, 821522, 797725],\n",
       "        [478481, 478482, 478483, ..., 821521, 738342, 821522]])}"
      ]
     },
     "execution_count": 236,
     "metadata": {},
     "output_type": "execute_result"
    }
   ],
   "source": [
    "data"
   ]
  },
  {
   "cell_type": "code",
   "execution_count": 235,
   "metadata": {},
   "outputs": [
    {
     "data": {
      "text/plain": [
       "dict_keys(['instance_idx', 'net_idx', 'edge_attr', 'edge_dir', 'sample_name', 'folder', 'design', 'edge_index'])"
      ]
     },
     "execution_count": 235,
     "metadata": {},
     "output_type": "execute_result"
    }
   ],
   "source": [
    "data.keys()"
   ]
  },
  {
   "cell_type": "code",
   "execution_count": 241,
   "metadata": {},
   "outputs": [
    {
     "data": {
      "text/plain": [
       "(2950019, 2950019)"
      ]
     },
     "execution_count": 241,
     "metadata": {},
     "output_type": "execute_result"
    }
   ],
   "source": [
    "len(data['instance_idx']), len(data['net_idx'])"
   ]
  },
  {
   "cell_type": "markdown",
   "metadata": {},
   "source": [
    "'instance_idx', 'net_idx', 'edge_attr', 'edge_dir', and both elements in 'edge_index' have same length (295019)"
   ]
  },
  {
   "cell_type": "code",
   "execution_count": 256,
   "metadata": {},
   "outputs": [
    {
     "data": {
      "text/plain": [
       "797681"
      ]
     },
     "execution_count": 256,
     "metadata": {},
     "output_type": "execute_result"
    }
   ],
   "source": [
    "len(set(data['instance_idx']))"
   ]
  },
  {
   "cell_type": "code",
   "execution_count": 263,
   "metadata": {},
   "outputs": [
    {
     "data": {
      "text/plain": [
       "732495    1243\n",
       "732475    1243\n",
       "732516    1243\n",
       "732509    1243\n",
       "732484    1243\n",
       "732505    1243\n",
       "732479    1243\n",
       "732514    1243\n",
       "732490    1243\n",
       "732507    1243\n",
       "732481    1243\n",
       "732519    1243\n",
       "732497    1243\n",
       "732503    1243\n",
       "732458     380\n",
       "732448     380\n",
       "732442     380\n",
       "732464     380\n",
       "732453     380\n",
       "732468     380\n",
       "dtype: int64"
      ]
     },
     "execution_count": 263,
     "metadata": {},
     "output_type": "execute_result"
    }
   ],
   "source": [
    "pd.Series(data['instance_idx']).value_counts().iloc[:20]"
   ]
  },
  {
   "cell_type": "code",
   "execution_count": 289,
   "metadata": {},
   "outputs": [
    {
     "data": {
      "text/plain": [
       "3       324975\n",
       "5       216932\n",
       "4       144290\n",
       "2        99906\n",
       "7         7016\n",
       "6         4387\n",
       "118         38\n",
       "109         24\n",
       "144         24\n",
       "1243        14\n",
       "178         12\n",
       "169          6\n",
       "380          6\n",
       "32           6\n",
       "50           6\n",
       "72           5\n",
       "87           4\n",
       "113          3\n",
       "76           3\n",
       "142          2\n",
       "310          2\n",
       "181          2\n",
       "82           2\n",
       "165          2\n",
       "112          2\n",
       "75           1\n",
       "53           1\n",
       "77           1\n",
       "33           1\n",
       "78           1\n",
       "30           1\n",
       "15           1\n",
       "14           1\n",
       "91           1\n",
       "179          1\n",
       "114          1\n",
       "130          1\n",
       "dtype: int64"
      ]
     },
     "execution_count": 289,
     "metadata": {},
     "output_type": "execute_result"
    }
   ],
   "source": [
    "pd.Series(pd.Series(data['instance_idx']).value_counts().values).value_counts()"
   ]
  },
  {
   "cell_type": "markdown",
   "metadata": {},
   "source": [
    "Many duplicate indices within 'instance_idx', not exactly sure where these indices coming from.\n",
    "\n",
    "Not from cell library data as only 80 different cells within that.\n",
    "\n",
    "Most indices appear a few times (2-7), though there are certain with specific high frequency (ex. 118, 169, 380, 1243).\n",
    "\n",
    "No index appears only once."
   ]
  },
  {
   "cell_type": "code",
   "execution_count": 310,
   "metadata": {},
   "outputs": [
    {
     "data": {
      "text/plain": [
       "1       797681\n",
       "2       797681\n",
       "3       697775\n",
       "4       372800\n",
       "5       228510\n",
       "         ...  \n",
       "671         14\n",
       "672         14\n",
       "673         14\n",
       "674         14\n",
       "1243        14\n",
       "Length: 1243, dtype: int64"
      ]
     },
     "execution_count": 310,
     "metadata": {},
     "output_type": "execute_result"
    }
   ],
   "source": [
    "pd.Series((data['edge_attr'])).value_counts()"
   ]
  },
  {
   "cell_type": "markdown",
   "metadata": {},
   "source": [
    "797681 matches up with the unique number of instance indices.\n",
    "\n",
    "Makes sense as each instance has at least one pin and this pin must be used.\n",
    "\n",
    "Tells us each instance has at least 2 pins being used."
   ]
  },
  {
   "cell_type": "code",
   "execution_count": 311,
   "metadata": {},
   "outputs": [
    {
     "data": {
      "text/plain": [
       "2950019"
      ]
     },
     "execution_count": 311,
     "metadata": {},
     "output_type": "execute_result"
    }
   ],
   "source": [
    "len(data['edge_attr'])"
   ]
  },
  {
   "cell_type": "markdown",
   "metadata": {},
   "source": [
    "I am assuming edge_attr is the pin/terminal index that is being used by the net/wire to connect to the cell."
   ]
  },
  {
   "cell_type": "code",
   "execution_count": 308,
   "metadata": {},
   "outputs": [
    {
     "data": {
      "text/plain": [
       "array([0, 0, 0, ..., 1, 0, 1])"
      ]
     },
     "execution_count": 308,
     "metadata": {},
     "output_type": "execute_result"
    }
   ],
   "source": [
    "data['edge_dir']"
   ]
  },
  {
   "cell_type": "markdown",
   "metadata": {},
   "source": [
    "'edge_dir' only consists of 0s and 1s, assuming signifies which direction the edge is pointing (not exactly sure which direction is for 0 and which for 1)."
   ]
  },
  {
   "cell_type": "code",
   "execution_count": 254,
   "metadata": {},
   "outputs": [
    {
     "data": {
      "text/plain": [
       "2950019"
      ]
     },
     "execution_count": 254,
     "metadata": {},
     "output_type": "execute_result"
    }
   ],
   "source": [
    "len(data['edge_index'][1])"
   ]
  },
  {
   "cell_type": "code",
   "execution_count": 291,
   "metadata": {},
   "outputs": [
    {
     "data": {
      "text/plain": [
       "dict_keys(['instance_idx', 'net_idx', 'edge_attr', 'edge_dir', 'sample_name', 'folder', 'design', 'edge_index'])"
      ]
     },
     "execution_count": 291,
     "metadata": {},
     "output_type": "execute_result"
    }
   ],
   "source": [
    "data.keys()"
   ]
  },
  {
   "cell_type": "code",
   "execution_count": 294,
   "metadata": {},
   "outputs": [],
   "source": [
    "def get_elem_data(idx):\n",
    "    print(data['instance_idx'][idx])\n",
    "    print(data['net_idx'][idx])\n",
    "    print(data['edge_attr'][idx])\n",
    "    print(data['edge_dir'][idx])\n",
    "    print(data['edge_index'][0][idx])\n",
    "    print(data['edge_index'][1][idx])"
   ]
  },
  {
   "cell_type": "code",
   "execution_count": 306,
   "metadata": {},
   "outputs": [
    {
     "name": "stdout",
     "output_type": "stream",
     "text": [
      "492078\n",
      "0\n",
      "3\n",
      "0\n",
      "0\n",
      "492078\n"
     ]
    }
   ],
   "source": [
    "get_elem_data(12030)"
   ]
  },
  {
   "cell_type": "markdown",
   "metadata": {},
   "source": [
    "## Raw Data\n"
   ]
  },
  {
   "cell_type": "code",
   "execution_count": 156,
   "metadata": {},
   "outputs": [],
   "source": [
    "import gzip\n",
    "import json"
   ]
  },
  {
   "cell_type": "code",
   "execution_count": 157,
   "metadata": {},
   "outputs": [],
   "source": [
    "with gzip.open('NCSU-DigIC-GraphData-2023-07-25/cells.json.gz', 'rt') as file:\n",
    "    cell_data = json.load(file)"
   ]
  },
  {
   "cell_type": "code",
   "execution_count": 158,
   "metadata": {},
   "outputs": [
    {
     "data": {
      "text/plain": [
       "80"
      ]
     },
     "execution_count": 158,
     "metadata": {},
     "output_type": "execute_result"
    }
   ],
   "source": [
    "len(cell_data)"
   ]
  },
  {
   "cell_type": "code",
   "execution_count": 174,
   "metadata": {},
   "outputs": [
    {
     "data": {
      "text/plain": [
       "{'name': 'AND2_X1',\n",
       " 'width': 768,\n",
       " 'height': 1536,\n",
       " 'terms': [{'name': 'A1', 'id': 1, 'dir': 0},\n",
       "  {'name': 'A2', 'id': 2, 'dir': 0},\n",
       "  {'name': 'Z', 'id': 3, 'dir': 1}],\n",
       " 'id': 0}"
      ]
     },
     "execution_count": 174,
     "metadata": {},
     "output_type": "execute_result"
    }
   ],
   "source": [
    "cell_data[0]"
   ]
  },
  {
   "cell_type": "markdown",
   "metadata": {},
   "source": [
    "cells.json.gz stores cell library data.\n",
    "\n",
    "'terms' are the pins of the cell."
   ]
  },
  {
   "cell_type": "code",
   "execution_count": 186,
   "metadata": {},
   "outputs": [
    {
     "data": {
      "text/plain": [
       "[{'name': 'A1', 'id': 1, 'dir': 0},\n",
       " {'name': 'A2', 'id': 2, 'dir': 0},\n",
       " {'name': 'Z', 'id': 3, 'dir': 1}]"
      ]
     },
     "execution_count": 186,
     "metadata": {},
     "output_type": "execute_result"
    }
   ],
   "source": [
    "cell_data[1]['terms']"
   ]
  },
  {
   "cell_type": "markdown",
   "metadata": {},
   "source": [
    "- 'id' is re"
   ]
  },
  {
   "cell_type": "markdown",
   "metadata": {},
   "source": [
    "### Counter"
   ]
  },
  {
   "cell_type": "markdown",
   "metadata": {},
   "source": [
    "#### Features"
   ]
  },
  {
   "cell_type": "code",
   "execution_count": 160,
   "metadata": {},
   "outputs": [],
   "source": [
    "with gzip.open('NCSU-DigIC-GraphData-2023-07-25/counter/1/counter.json.gz', 'rt') as file:\n",
    "    counter_feature_data = json.load(file)"
   ]
  },
  {
   "cell_type": "code",
   "execution_count": 161,
   "metadata": {},
   "outputs": [
    {
     "data": {
      "text/plain": [
       "(23, 28)"
      ]
     },
     "execution_count": 161,
     "metadata": {},
     "output_type": "execute_result"
    }
   ],
   "source": [
    "len(counter_feature_data['instances']), len(counter_feature_data['nets'])"
   ]
  },
  {
   "cell_type": "markdown",
   "metadata": {},
   "source": [
    "23 instances and 28 nets in counter\n",
    "\n",
    "Instances are cells with pins and nets are wires"
   ]
  },
  {
   "cell_type": "code",
   "execution_count": 162,
   "metadata": {},
   "outputs": [
    {
     "data": {
      "text/plain": [
       "{'name': 'clk_gate_value_reg/latch',\n",
       " 'id': 0,\n",
       " 'xloc': 2560,\n",
       " 'yloc': 7680,\n",
       " 'cell': 23,\n",
       " 'orient': 0}"
      ]
     },
     "execution_count": 162,
     "metadata": {},
     "output_type": "execute_result"
    }
   ],
   "source": [
    "counter_feature_data['instances'][0]"
   ]
  },
  {
   "cell_type": "markdown",
   "metadata": {},
   "source": [
    "- name(str): name of the instance\n",
    "- id(int): index of the instance in the array\n",
    "    - index just in this chip\n",
    "- xloc, yloc(int): location of the instance in database units (DBU)\n",
    "- cell(int): master library cell ID (index)\n",
    "    - what kind of cell that is being instantiated\n",
    "- orient(int): number from 0 to 7 for orientation of instance"
   ]
  },
  {
   "cell_type": "code",
   "execution_count": 168,
   "metadata": {},
   "outputs": [
    {
     "data": {
      "text/plain": [
       "17    5\n",
       "65    3\n",
       "48    3\n",
       "7     3\n",
       "34    2\n",
       "20    2\n",
       "23    1\n",
       "58    1\n",
       "42    1\n",
       "21    1\n",
       "15    1\n",
       "dtype: int64"
      ]
     },
     "execution_count": 168,
     "metadata": {},
     "output_type": "execute_result"
    }
   ],
   "source": [
    "pd.Series([x['cell'] for x in counter_feature_data['instances']]).value_counts()"
   ]
  },
  {
   "cell_type": "markdown",
   "metadata": {},
   "source": [
    "different types of cells in counter"
   ]
  },
  {
   "cell_type": "code",
   "execution_count": 164,
   "metadata": {},
   "outputs": [
    {
     "data": {
      "text/plain": [
       "[{'name': 'ropt_h_inst_941',\n",
       "  'id': 14,\n",
       "  'xloc': 4608,\n",
       "  'yloc': 7680,\n",
       "  'cell': 17,\n",
       "  'orient': 6},\n",
       " {'name': 'copt_h_inst_791',\n",
       "  'id': 16,\n",
       "  'xloc': 4864,\n",
       "  'yloc': 7680,\n",
       "  'cell': 17,\n",
       "  'orient': 0},\n",
       " {'name': 'copt_h_inst_793',\n",
       "  'id': 17,\n",
       "  'xloc': 7552,\n",
       "  'yloc': 7680,\n",
       "  'cell': 17,\n",
       "  'orient': 6},\n",
       " {'name': 'copt_h_inst_796',\n",
       "  'id': 20,\n",
       "  'xloc': 4992,\n",
       "  'yloc': 4608,\n",
       "  'cell': 17,\n",
       "  'orient': 0},\n",
       " {'name': 'ropt_h_inst_943',\n",
       "  'id': 22,\n",
       "  'xloc': 6912,\n",
       "  'yloc': 4608,\n",
       "  'cell': 17,\n",
       "  'orient': 0}]"
      ]
     },
     "execution_count": 164,
     "metadata": {},
     "output_type": "execute_result"
    }
   ],
   "source": [
    "[x for x in counter_feature_data['instances'] if x['cell'] == 17]"
   ]
  },
  {
   "cell_type": "code",
   "execution_count": 165,
   "metadata": {},
   "outputs": [
    {
     "data": {
      "text/plain": [
       "{'name': 'clock', 'id': 0}"
      ]
     },
     "execution_count": 165,
     "metadata": {},
     "output_type": "execute_result"
    }
   ],
   "source": [
    "counter_feature_data['nets'][0]"
   ]
  },
  {
   "cell_type": "code",
   "execution_count": 166,
   "metadata": {},
   "outputs": [
    {
     "data": {
      "text/plain": [
       "['clock',\n",
       " 'reset',\n",
       " 'dec',\n",
       " 'zero',\n",
       " 'test_si',\n",
       " 'test_so',\n",
       " 'test_se',\n",
       " 'copt_net_53',\n",
       " 'ropt_net_56',\n",
       " 'aps_rename_1_',\n",
       " 'value_1_',\n",
       " 'value_0_',\n",
       " 'N9',\n",
       " 'net41',\n",
       " 'n12',\n",
       " 'n13',\n",
       " 'n14',\n",
       " 'n15',\n",
       " 'n18',\n",
       " 'n19',\n",
       " 'n20',\n",
       " 'n23',\n",
       " 'copt_net_49',\n",
       " 'copt_net_50',\n",
       " 'copt_net_52',\n",
       " 'copt_net_55',\n",
       " 'ropt_net_57',\n",
       " 'ropt_net_58']"
      ]
     },
     "execution_count": 166,
     "metadata": {},
     "output_type": "execute_result"
    }
   ],
   "source": [
    "[x['name'] for x in counter_feature_data['nets']]"
   ]
  },
  {
   "cell_type": "markdown",
   "metadata": {},
   "source": [
    "#### Connectivity/Incidence Matrix\n"
   ]
  },
  {
   "cell_type": "code",
   "execution_count": 189,
   "metadata": {},
   "outputs": [],
   "source": [
    "data = np.load('NCSU-DigIC-GraphData-2023-07-25/counter/1/counter_connectivity.npz')"
   ]
  },
  {
   "cell_type": "code",
   "execution_count": 190,
   "metadata": {},
   "outputs": [
    {
     "data": {
      "text/plain": [
       "['row', 'col', 'data', 'shape']"
      ]
     },
     "execution_count": 190,
     "metadata": {},
     "output_type": "execute_result"
    }
   ],
   "source": [
    "data.files"
   ]
  },
  {
   "cell_type": "code",
   "execution_count": 116,
   "metadata": {},
   "outputs": [
    {
     "data": {
      "text/plain": [
       "array([ 0,  7,  9, 10, 13, 13,  6, 11,  5,  1,  6, 19,  1,  2,  3,  0,  2,\n",
       "        8,  4, 18, 15, 14,  5, 21,  2, 22,  3, 14,  1, 12,  0,  1,  2,  3,\n",
       "        0,  7,  6,  5,  6,  9,  4,  9,  8, 13, 11,  3,  9,  2,  7,  1, 10,\n",
       "       12, 13, 16, 15, 20, 16, 18, 17,  3, 10,  8,  4, 20, 19, 21, 17, 22])"
      ]
     },
     "execution_count": 116,
     "metadata": {},
     "output_type": "execute_result"
    }
   ],
   "source": [
    "data['row']"
   ]
  },
  {
   "cell_type": "code",
   "execution_count": 117,
   "metadata": {},
   "outputs": [
    {
     "data": {
      "text/plain": [
       "array([ 0,  1,  1,  1,  1,  2,  3,  3,  3,  4,  5,  5,  6,  6,  6,  6,  7,\n",
       "        7,  7,  7,  8,  8,  9,  9,  9, 10, 10, 11, 11, 12, 12, 13, 13, 13,\n",
       "       13, 14, 14, 15, 15, 15, 15, 16, 16, 17, 17, 18, 18, 19, 19, 20, 20,\n",
       "       21, 21, 22, 22, 23, 23, 24, 24, 25, 25, 25, 25, 25, 26, 26, 27, 27])"
      ]
     },
     "execution_count": 117,
     "metadata": {},
     "output_type": "execute_result"
    }
   ],
   "source": [
    "data['col']"
   ]
  },
  {
   "cell_type": "code",
   "execution_count": 118,
   "metadata": {},
   "outputs": [
    {
     "data": {
      "text/plain": [
       "array([1, 1, 3, 1, 3, 1, 3, 1, 3, 3, 1, 2, 2, 2, 2, 3, 3, 2, 1, 2, 1, 2,\n",
       "       1, 1, 6, 1, 6, 1, 6, 2, 2, 5, 5, 5, 4, 2, 4, 2, 2, 2, 3, 1, 3, 2,\n",
       "       2, 1, 4, 1, 3, 1, 3, 1, 4, 1, 2, 1, 2, 1, 2, 3, 2, 1, 2, 2, 1, 2,\n",
       "       1, 2])"
      ]
     },
     "execution_count": 118,
     "metadata": {},
     "output_type": "execute_result"
    }
   ],
   "source": [
    "data['data']"
   ]
  },
  {
   "cell_type": "code",
   "execution_count": 119,
   "metadata": {},
   "outputs": [
    {
     "data": {
      "text/plain": [
       "array([23, 28])"
      ]
     },
     "execution_count": 119,
     "metadata": {},
     "output_type": "execute_result"
    }
   ],
   "source": [
    "data['shape']"
   ]
  },
  {
   "cell_type": "code",
   "execution_count": 191,
   "metadata": {},
   "outputs": [],
   "source": [
    "from scipy.sparse import coo_matrix\n",
    "coo = coo_matrix((data['data'], (data['row'], data['col'])), shape=data['shape'])"
   ]
  },
  {
   "cell_type": "code",
   "execution_count": 194,
   "metadata": {},
   "outputs": [
    {
     "data": {
      "text/plain": [
       "array([1, 0, 0, 0, 0, 0, 3, 0, 0, 0, 0, 0, 2, 4, 0, 0, 0, 0, 0, 0, 0, 0,\n",
       "       0, 0, 0, 0, 0, 0])"
      ]
     },
     "execution_count": 194,
     "metadata": {},
     "output_type": "execute_result"
    }
   ],
   "source": [
    "coo.toarray()[0]"
   ]
  },
  {
   "cell_type": "markdown",
   "metadata": {},
   "source": [
    "Signifies that in this instance/cell (index 0 instance), they are connected to index 0 net/wire at the instance's first pin/terminal. They are also connected to the index 6 net/wire at the instance's 3rd pin. \n",
    "\n",
    "The pins indicies just based on order they are (placed) in the instance. Can access pin information from the 'terms' in the instance's cell data (from cells.json.gz)."
   ]
  },
  {
   "cell_type": "code",
   "execution_count": 169,
   "metadata": {},
   "outputs": [],
   "source": [
    "counter_congestion_data = np.load('NCSU-DigIC-GraphData-2023-07-25/counter/1/counter_congestion.npz')"
   ]
  },
  {
   "cell_type": "code",
   "execution_count": 170,
   "metadata": {},
   "outputs": [
    {
     "data": {
      "text/plain": [
       "['demand', 'capacity', 'xBoundaryList', 'yBoundaryList', 'layerList']"
      ]
     },
     "execution_count": 170,
     "metadata": {},
     "output_type": "execute_result"
    }
   ],
   "source": [
    "counter_congestion_data.files"
   ]
  },
  {
   "cell_type": "code",
   "execution_count": 221,
   "metadata": {},
   "outputs": [
    {
     "name": "stdout",
     "output_type": "stream",
     "text": [
      "['M1' 'MINT1' 'MINT2' 'MINT3' 'MINT4' 'MINT5' 'MSMG1' 'MSMG2' 'MSMG3'\n",
      " 'MSMG4' 'MSMG5' 'MG1' 'MG2']\n"
     ]
    }
   ],
   "source": [
    "print(counter_congestion_data['layerList'])"
   ]
  },
  {
   "cell_type": "code",
   "execution_count": 203,
   "metadata": {},
   "outputs": [
    {
     "data": {
      "text/plain": [
       "(array([   0, 2048, 3584, 5120, 6656]),\n",
       " array([   0, 1536, 3072, 4608, 6144, 7680, 9216]))"
      ]
     },
     "execution_count": 203,
     "metadata": {},
     "output_type": "execute_result"
    }
   ],
   "source": [
    "ybl = counter_congestion_data['yBoundaryList']\n",
    "xbl = counter_congestion_data['xBoundaryList']\n",
    "xbl, ybl"
   ]
  },
  {
   "cell_type": "code",
   "execution_count": 206,
   "metadata": {},
   "outputs": [],
   "source": [
    "def getGRCIndex(x,y,xbl,ybl):\n",
    "    j=0\n",
    "    for b in xbl[1:]:\n",
    "        if x<b:break\n",
    "        j+=1\n",
    "    i=0\n",
    "    for b in ybl[1:]:\n",
    "        if y<b:break\n",
    "        i+=1\n",
    "    return i,j"
   ]
  },
  {
   "cell_type": "code",
   "execution_count": 218,
   "metadata": {},
   "outputs": [],
   "source": [
    "xloc = 5048\n",
    "yloc = 3536"
   ]
  },
  {
   "cell_type": "code",
   "execution_count": 219,
   "metadata": {},
   "outputs": [
    {
     "data": {
      "text/plain": [
       "(2, 2)"
      ]
     },
     "execution_count": 219,
     "metadata": {},
     "output_type": "execute_result"
    }
   ],
   "source": [
    "getGRCIndex(xloc, yloc, xbl, ybl)"
   ]
  },
  {
   "cell_type": "markdown",
   "metadata": {},
   "source": [
    "Global route cell (GRC) is a higher-level representation of a group of cells, most likely partitioned by purpose and physical location.\n",
    "\n",
    "Used early on in routing process of chip design to predict areas of higher congestion."
   ]
  },
  {
   "cell_type": "code",
   "execution_count": 313,
   "metadata": {},
   "outputs": [],
   "source": [
    "def buildBST(array,start=0,finish=-1):\n",
    "    if finish<0:\n",
    "        finish = len(array)\n",
    "    mid = (start + finish) // 2\n",
    "    if mid-start==1:\n",
    "        ltl=start\n",
    "    else:\n",
    "        ltl=buildBST(array,start,mid)\n",
    "    if finish-mid==1:\n",
    "        gtl=mid\n",
    "    else:\n",
    "        gtl=buildBST(array,mid,finish)\n",
    "    return((array[mid],ltl,gtl))\n",
    "xbst=buildBST(counter_congestion_data['xBoundaryList'])\n",
    "ybst=buildBST(counter_congestion_data['yBoundaryList'])"
   ]
  },
  {
   "cell_type": "code",
   "execution_count": 314,
   "metadata": {},
   "outputs": [],
   "source": [
    "def getGRCIndex(x, y, xbst, ybst):\n",
    "    while (type(xbst)==tuple):\n",
    "        if x < xbst[0]:\n",
    "            xbst=xbst[1]\n",
    "        else:\n",
    "            xbst=xbst[2]\n",
    "\n",
    "    while (type(ybst)==tuple):\n",
    "        if y < ybst[0]:\n",
    "            ybst=ybst[1]\n",
    "        else:\n",
    "            ybst=ybst[2]\n",
    "    return ybst, xbst"
   ]
  },
  {
   "cell_type": "code",
   "execution_count": 319,
   "metadata": {},
   "outputs": [
    {
     "data": {
      "text/plain": [
       "(1, 2)"
      ]
     },
     "execution_count": 319,
     "metadata": {},
     "output_type": "execute_result"
    }
   ],
   "source": [
    "getGRCIndex(5000, 3000, xbst, ybst)"
   ]
  },
  {
   "cell_type": "code",
   "execution_count": 172,
   "metadata": {},
   "outputs": [
    {
     "data": {
      "text/plain": [
       "array([[0, 1, 1, 0, 0],\n",
       "       [0, 0, 0, 0, 0],\n",
       "       [0, 0, 0, 0, 1],\n",
       "       [0, 0, 1, 0, 0],\n",
       "       [1, 2, 1, 0, 0],\n",
       "       [0, 0, 0, 0, 0],\n",
       "       [0, 0, 0, 0, 0]])"
      ]
     },
     "execution_count": 172,
     "metadata": {},
     "output_type": "execute_result"
    }
   ],
   "source": [
    "counter_congestion_data['demand'][3]"
   ]
  },
  {
   "cell_type": "code",
   "execution_count": 222,
   "metadata": {},
   "outputs": [
    {
     "data": {
      "text/plain": [
       "array([[11, 11, 11, 11, 11],\n",
       "       [12, 12, 12, 12, 12],\n",
       "       [10, 11, 12, 12, 12],\n",
       "       [11, 12, 12, 12, 12],\n",
       "       [11, 11, 12, 12, 12],\n",
       "       [12, 12, 12, 12, 12],\n",
       "       [11, 11, 12, 12, 12]])"
      ]
     },
     "execution_count": 222,
     "metadata": {},
     "output_type": "execute_result"
    }
   ],
   "source": [
    "counter_congestion_data['capacity'][3]"
   ]
  },
  {
   "cell_type": "markdown",
   "metadata": {},
   "source": [
    "- Demand is the number of wires required to pass through the certain GRC\n",
    "- Capacity is the number of wires that can pass through without congestion\n",
    "\n",
    "Each element in the matrix refers to a subsection of the GRC.\n",
    "\n",
    "How are subsections partitioned? Why are all the GRCs the same shape in counter?\n",
    "\n",
    "Is it possible different GRCs actually have different sizes, scaled by x and y boundaries. Just arbitrarily separated into 7 by 5 matrices?"
   ]
  },
  {
   "cell_type": "code",
   "execution_count": null,
   "metadata": {},
   "outputs": [],
   "source": []
  },
  {
   "cell_type": "code",
   "execution_count": 228,
   "metadata": {},
   "outputs": [
    {
     "data": {
      "text/plain": [
       "(7, 5)"
      ]
     },
     "execution_count": 228,
     "metadata": {},
     "output_type": "execute_result"
    }
   ],
   "source": [
    "counter_congestion_data['demand'][10].shape"
   ]
  },
  {
   "cell_type": "code",
   "execution_count": 323,
   "metadata": {},
   "outputs": [
    {
     "data": {
      "text/plain": [
       "[{'name': 'clk_gate_value_reg/latch',\n",
       "  'id': 0,\n",
       "  'xloc': 2560,\n",
       "  'yloc': 7680,\n",
       "  'cell': 23,\n",
       "  'orient': 0},\n",
       " {'name': 'value_reg_0_',\n",
       "  'id': 1,\n",
       "  'xloc': 512,\n",
       "  'yloc': 4608,\n",
       "  'cell': 65,\n",
       "  'orient': 0},\n",
       " {'name': 'value_reg_2_',\n",
       "  'id': 2,\n",
       "  'xloc': 768,\n",
       "  'yloc': 7680,\n",
       "  'cell': 65,\n",
       "  'orient': 6},\n",
       " {'name': 'value_reg_1_',\n",
       "  'id': 3,\n",
       "  'xloc': 3584,\n",
       "  'yloc': 4608,\n",
       "  'cell': 65,\n",
       "  'orient': 6},\n",
       " {'name': 'U20', 'id': 4, 'xloc': 7424, 'yloc': 4608, 'cell': 58, 'orient': 6},\n",
       " {'name': 'U21', 'id': 5, 'xloc': 6272, 'yloc': 7680, 'cell': 48, 'orient': 6},\n",
       " {'name': 'U22', 'id': 6, 'xloc': 6784, 'yloc': 7680, 'cell': 7, 'orient': 6},\n",
       " {'name': 'U23', 'id': 7, 'xloc': 5760, 'yloc': 7680, 'cell': 48, 'orient': 2},\n",
       " {'name': 'U24', 'id': 8, 'xloc': 6912, 'yloc': 4608, 'cell': 42, 'orient': 4},\n",
       " {'name': 'U25', 'id': 9, 'xloc': 6400, 'yloc': 4608, 'cell': 7, 'orient': 4},\n",
       " {'name': 'U26',\n",
       "  'id': 10,\n",
       "  'xloc': 6272,\n",
       "  'yloc': 7680,\n",
       "  'cell': 48,\n",
       "  'orient': 2},\n",
       " {'name': 'U28',\n",
       "  'id': 11,\n",
       "  'xloc': 1664,\n",
       "  'yloc': 7680,\n",
       "  'cell': 34,\n",
       "  'orient': 4},\n",
       " {'name': 'U27',\n",
       "  'id': 12,\n",
       "  'xloc': 1792,\n",
       "  'yloc': 7680,\n",
       "  'cell': 34,\n",
       "  'orient': 0},\n",
       " {'name': 'U29', 'id': 13, 'xloc': 1280, 'yloc': 7680, 'cell': 7, 'orient': 4},\n",
       " {'name': 'ropt_h_inst_941',\n",
       "  'id': 14,\n",
       "  'xloc': 4608,\n",
       "  'yloc': 7680,\n",
       "  'cell': 17,\n",
       "  'orient': 6},\n",
       " {'name': 'copt_h_inst_790',\n",
       "  'id': 15,\n",
       "  'xloc': 5504,\n",
       "  'yloc': 7680,\n",
       "  'cell': 20,\n",
       "  'orient': 0},\n",
       " {'name': 'copt_h_inst_791',\n",
       "  'id': 16,\n",
       "  'xloc': 4864,\n",
       "  'yloc': 7680,\n",
       "  'cell': 17,\n",
       "  'orient': 0},\n",
       " {'name': 'copt_h_inst_793',\n",
       "  'id': 17,\n",
       "  'xloc': 7552,\n",
       "  'yloc': 7680,\n",
       "  'cell': 17,\n",
       "  'orient': 6},\n",
       " {'name': 'copt_h_inst_794',\n",
       "  'id': 18,\n",
       "  'xloc': 7552,\n",
       "  'yloc': 4608,\n",
       "  'cell': 20,\n",
       "  'orient': 0},\n",
       " {'name': 'copt_h_inst_795',\n",
       "  'id': 19,\n",
       "  'xloc': 7168,\n",
       "  'yloc': 7680,\n",
       "  'cell': 21,\n",
       "  'orient': 0},\n",
       " {'name': 'copt_h_inst_796',\n",
       "  'id': 20,\n",
       "  'xloc': 4992,\n",
       "  'yloc': 4608,\n",
       "  'cell': 17,\n",
       "  'orient': 0},\n",
       " {'name': 'ropt_h_inst_942',\n",
       "  'id': 21,\n",
       "  'xloc': 6144,\n",
       "  'yloc': 7680,\n",
       "  'cell': 15,\n",
       "  'orient': 0},\n",
       " {'name': 'ropt_h_inst_943',\n",
       "  'id': 22,\n",
       "  'xloc': 6912,\n",
       "  'yloc': 4608,\n",
       "  'cell': 17,\n",
       "  'orient': 0}]"
      ]
     },
     "execution_count": 323,
     "metadata": {},
     "output_type": "execute_result"
    }
   ],
   "source": [
    "counter_feature_data['instances']"
   ]
  },
  {
   "cell_type": "code",
   "execution_count": 325,
   "metadata": {},
   "outputs": [
    {
     "data": {
      "text/plain": [
       "{'name': 'AND2_X1',\n",
       " 'width': 768,\n",
       " 'height': 1536,\n",
       " 'terms': [{'name': 'A1', 'id': 1, 'dir': 0},\n",
       "  {'name': 'A2', 'id': 2, 'dir': 0},\n",
       "  {'name': 'Z', 'id': 3, 'dir': 1}],\n",
       " 'id': 0}"
      ]
     },
     "execution_count": 325,
     "metadata": {},
     "output_type": "execute_result"
    }
   ],
   "source": [
    "cell_data[0]"
   ]
  },
  {
   "cell_type": "code",
   "execution_count": null,
   "metadata": {},
   "outputs": [],
   "source": []
  }
 ],
 "metadata": {
  "kernelspec": {
   "display_name": "project_env",
   "language": "python",
   "name": "python3"
  },
  "language_info": {
   "codemirror_mode": {
    "name": "ipython",
    "version": 3
   },
   "file_extension": ".py",
   "mimetype": "text/x-python",
   "name": "python",
   "nbconvert_exporter": "python",
   "pygments_lexer": "ipython3",
   "version": "3.8.15"
  }
 },
 "nbformat": 4,
 "nbformat_minor": 2
}
